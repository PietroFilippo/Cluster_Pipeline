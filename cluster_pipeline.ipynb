{
 "cells": [
  {
   "cell_type": "code",
   "execution_count": 63,
   "metadata": {},
   "outputs": [],
   "source": [
    "import pandas as pd"
   ]
  },
  {
   "cell_type": "code",
   "execution_count": 64,
   "metadata": {},
   "outputs": [],
   "source": [
    "# normalizar dados\n",
    "\n",
    "dados = pd.read_csv(\"ObesityDataSet_raw_and_data_sinthetic.csv\", sep=',')"
   ]
  },
  {
   "cell_type": "code",
   "execution_count": 65,
   "metadata": {},
   "outputs": [
    {
     "name": "stdout",
     "output_type": "stream",
     "text": [
      "      Female   Male     no    yes     no    yes  Always  Frequently  \\\n",
      "0       True  False  False   True   True  False   False       False   \n",
      "1       True  False  False   True   True  False   False       False   \n",
      "2      False   True  False   True   True  False   False       False   \n",
      "3      False   True   True  False   True  False   False       False   \n",
      "4      False   True   True  False   True  False   False       False   \n",
      "...      ...    ...    ...    ...    ...    ...     ...         ...   \n",
      "2106    True  False  False   True  False   True   False       False   \n",
      "2107    True  False  False   True  False   True   False       False   \n",
      "2108    True  False  False   True  False   True   False       False   \n",
      "2109    True  False  False   True  False   True   False       False   \n",
      "2110    True  False  False   True  False   True   False       False   \n",
      "\n",
      "      Sometimes     no  ...  Motorbike  Public_Transportation  Walking  \\\n",
      "0          True  False  ...      False                   True    False   \n",
      "1          True  False  ...      False                   True    False   \n",
      "2          True  False  ...      False                   True    False   \n",
      "3          True  False  ...      False                  False     True   \n",
      "4          True  False  ...      False                   True    False   \n",
      "...         ...    ...  ...        ...                    ...      ...   \n",
      "2106       True  False  ...      False                   True    False   \n",
      "2107       True  False  ...      False                   True    False   \n",
      "2108       True  False  ...      False                   True    False   \n",
      "2109       True  False  ...      False                   True    False   \n",
      "2110       True  False  ...      False                   True    False   \n",
      "\n",
      "      Insufficient_Weight  Normal_Weight  Obesity_Type_I  Obesity_Type_II  \\\n",
      "0                   False           True           False            False   \n",
      "1                   False           True           False            False   \n",
      "2                   False           True           False            False   \n",
      "3                   False          False           False            False   \n",
      "4                   False          False           False            False   \n",
      "...                   ...            ...             ...              ...   \n",
      "2106                False          False           False            False   \n",
      "2107                False          False           False            False   \n",
      "2108                False          False           False            False   \n",
      "2109                False          False           False            False   \n",
      "2110                False          False           False            False   \n",
      "\n",
      "      Obesity_Type_III  Overweight_Level_I  Overweight_Level_II  \n",
      "0                False               False                False  \n",
      "1                False               False                False  \n",
      "2                False               False                False  \n",
      "3                False                True                False  \n",
      "4                False               False                 True  \n",
      "...                ...                 ...                  ...  \n",
      "2106              True               False                False  \n",
      "2107              True               False                False  \n",
      "2108              True               False                False  \n",
      "2109              True               False                False  \n",
      "2110              True               False                False  \n",
      "\n",
      "[2111 rows x 30 columns]\n"
     ]
    }
   ],
   "source": [
    "dados_num = dados.drop(columns = [\"Gender\", \"family_history_with_overweight\", \"FAVC\", \"CAEC\", \"SMOKE\", \"SCC\", \"CALC\", \"MTRANS\", \"NObeyesdad\"])\n",
    "dados_categoricos = dados[[\"Gender\", \"family_history_with_overweight\", \"FAVC\", \"CAEC\", \"SMOKE\", \"SCC\", \"CALC\", \"MTRANS\", \"NObeyesdad\"]]\n",
    "\n",
    "# normalizar os categoricos\n",
    "\n",
    "dados_categoricos_normalizados = pd.get_dummies(data=dados_categoricos, prefix='', prefix_sep='')\n",
    "print(dados_categoricos_normalizados)"
   ]
  },
  {
   "cell_type": "code",
   "execution_count": 66,
   "metadata": {},
   "outputs": [],
   "source": [
    "# treinar modelo normalizador dos dados num\n",
    "\n",
    "from sklearn import preprocessing\n",
    "normalizador = preprocessing.MinMaxScaler()\n",
    "modelo_normalizador = normalizador.fit(dados_num)\n",
    "from pickle import dump\n",
    "dump(modelo_normalizador, open(\"normalizador1.pkl\", \"wb\"))"
   ]
  },
  {
   "cell_type": "code",
   "execution_count": 67,
   "metadata": {},
   "outputs": [
    {
     "name": "stdout",
     "output_type": "stream",
     "text": [
      "[[0.14893617 0.32075472 0.18656716 ... 0.5        0.         0.5       ]\n",
      " [0.14893617 0.13207547 0.12686567 ... 1.         1.         0.        ]\n",
      " [0.19148936 0.66037736 0.28358209 ... 0.5        0.66666667 0.5       ]\n",
      " ...\n",
      " [0.18136247 0.5702     0.70663696 ... 0.5270965  0.471403   0.323144  ]\n",
      " [0.22046672 0.54613208 0.70407941 ... 0.9261695  0.37970233 0.2930175 ]\n",
      " [0.20563211 0.54497358 0.70501971 ... 0.9317565  0.34215067 0.3570685 ]]\n",
      "           Age    Height    Weight  FCVC       NCP      CH2O       FAF  \\\n",
      "0     0.148936  0.320755  0.186567   0.5  0.666667  0.500000  0.000000   \n",
      "1     0.148936  0.132075  0.126866   1.0  0.666667  1.000000  1.000000   \n",
      "2     0.191489  0.660377  0.283582   0.5  0.666667  0.500000  0.666667   \n",
      "3     0.276596  0.660377  0.358209   1.0  0.666667  0.500000  0.666667   \n",
      "4     0.170213  0.622642  0.379104   0.5  0.000000  0.500000  0.000000   \n",
      "...        ...       ...       ...   ...       ...       ...       ...   \n",
      "2106  0.148443  0.491943  0.689616   1.0  0.666667  0.364070  0.558756   \n",
      "2107  0.169850  0.563366  0.707037   1.0  0.666667  0.502565  0.447130   \n",
      "2108  0.181362  0.570200  0.706637   1.0  0.666667  0.527097  0.471403   \n",
      "2109  0.220467  0.546132  0.704079   1.0  0.666667  0.926170  0.379702   \n",
      "2110  0.205632  0.544974  0.705020   1.0  0.666667  0.931757  0.342151   \n",
      "\n",
      "           TUE  \n",
      "0     0.500000  \n",
      "1     0.000000  \n",
      "2     0.500000  \n",
      "3     0.000000  \n",
      "4     0.000000  \n",
      "...        ...  \n",
      "2106  0.453124  \n",
      "2107  0.299635  \n",
      "2108  0.323144  \n",
      "2109  0.293017  \n",
      "2110  0.357069  \n",
      "\n",
      "[2111 rows x 8 columns]\n",
      "        Age    Height    Weight  FCVC       NCP  CH2O       FAF  TUE  Female  \\\n",
      "0  0.148936  0.320755  0.186567   0.5  0.666667   0.5  0.000000  0.5    True   \n",
      "1  0.148936  0.132075  0.126866   1.0  0.666667   1.0  1.000000  0.0    True   \n",
      "2  0.191489  0.660377  0.283582   0.5  0.666667   0.5  0.666667  0.5   False   \n",
      "3  0.276596  0.660377  0.358209   1.0  0.666667   0.5  0.666667  0.0   False   \n",
      "4  0.170213  0.622642  0.379104   0.5  0.000000   0.5  0.000000  0.0   False   \n",
      "5  0.319149  0.320755  0.104478   0.5  0.666667   0.5  0.000000  0.0   False   \n",
      "6  0.191489  0.094340  0.119403   1.0  0.666667   0.5  0.333333  0.0    True   \n",
      "7  0.170213  0.358491  0.104478   0.5  0.666667   0.5  1.000000  0.0   False   \n",
      "8  0.212766  0.622642  0.186567   1.0  0.666667   0.5  0.333333  0.5   False   \n",
      "9  0.170213  0.509434  0.216418   0.5  0.666667   0.5  0.333333  0.5   False   \n",
      "\n",
      "    Male  ...  Motorbike  Public_Transportation  Walking  Insufficient_Weight  \\\n",
      "0  False  ...      False                   True    False                False   \n",
      "1  False  ...      False                   True    False                False   \n",
      "2   True  ...      False                   True    False                False   \n",
      "3   True  ...      False                  False     True                False   \n",
      "4   True  ...      False                   True    False                False   \n",
      "5   True  ...      False                  False    False                False   \n",
      "6  False  ...       True                  False    False                False   \n",
      "7   True  ...      False                   True    False                False   \n",
      "8   True  ...      False                   True    False                False   \n",
      "9   True  ...      False                   True    False                False   \n",
      "\n",
      "   Normal_Weight  Obesity_Type_I  Obesity_Type_II  Obesity_Type_III  \\\n",
      "0           True           False            False             False   \n",
      "1           True           False            False             False   \n",
      "2           True           False            False             False   \n",
      "3          False           False            False             False   \n",
      "4          False           False            False             False   \n",
      "5           True           False            False             False   \n",
      "6           True           False            False             False   \n",
      "7           True           False            False             False   \n",
      "8           True           False            False             False   \n",
      "9           True           False            False             False   \n",
      "\n",
      "   Overweight_Level_I  Overweight_Level_II  \n",
      "0               False                False  \n",
      "1               False                False  \n",
      "2               False                False  \n",
      "3                True                False  \n",
      "4               False                 True  \n",
      "5               False                False  \n",
      "6               False                False  \n",
      "7               False                False  \n",
      "8               False                False  \n",
      "9               False                False  \n",
      "\n",
      "[10 rows x 38 columns]\n"
     ]
    }
   ],
   "source": [
    "# normalizar a base de dados de entrada\n",
    "dados_num_normalizados = modelo_normalizador.fit_transform(dados_num)\n",
    "print(dados_num_normalizados)\n",
    "\n",
    "# cria um dataframe com os dados normalizados (categóricos e numéricos)\n",
    "# converte os dados numéricos normalizados em dataframe\n",
    "dados_num_normalizados = pd.DataFrame(data = dados_num_normalizados, columns = ['Age', 'Height', 'Weight', 'FCVC', 'NCP', 'CH2O', 'FAF', 'TUE'])\n",
    "print(dados_num_normalizados)\n",
    "\n",
    "# junta com os dados categóricos normalizados\n",
    "dados_normalizados_final = dados_num_normalizados.join(dados_categoricos_normalizados, how = 'left')\n",
    "print(dados_normalizados_final.head(10))"
   ]
  },
  {
   "cell_type": "code",
   "execution_count": 68,
   "metadata": {},
   "outputs": [
    {
     "name": "stdout",
     "output_type": "stream",
     "text": [
      "[0.680432584547735, 0.6483118808723356, 0.63255607608809, 0.6185306394442214, 0.607544093297178, 0.5986775294405002, 0.5883447620523434, 0.5801852090520478, 0.5772522858026822, 0.5717765785538222, 0.5648159500661031, 0.5575890998955514, 0.5526045094776053, 0.5405057795896758, 0.5317333232264195, 0.5252719604770866, 0.5223084630981804, 0.5158538447555912, 0.510004827163033, 0.5070025107019709, 0.4936545265852005, 0.4904542727030025, 0.48519216715129865, 0.4838376124509876, 0.4823298674065537, 0.47992578513999323, 0.4798721209071181, 0.4785617141429423, 0.4781810424181851, 0.47712689058418367, 0.4681515850747367, 0.44808628685046775, 0.44183766595023927, 0.43688097401634435, 0.43683898139985505, 0.4352266589413199, 0.4354468333170044, 0.43231880354411595, 0.42945627858784996, 0.42886359289485376, 0.4265791959478006, 0.4254564390099522, 0.4214121275415107, 0.41971501516285104, 0.41946946830895193, 0.4168553608107399, 0.4138029464633269, 0.4164302624108185, 0.4156210988224919, 0.41324113314061817, 0.4128847701119754, 0.41165157412884257, 0.409067430521794, 0.4052991976598307, 0.41581197054381835, 0.4143383057974841, 0.413864142915831, 0.41329538827699414, 0.41180933626386035, 0.41050042512831814, 0.4096055501846129, 0.4095824725412876, 0.4088279981250144, 0.4082429375468151, 0.4072855868070582, 0.39279275443118034, 0.39216218422445215, 0.390346405903196, 0.388702604629112, 0.38412594976743564, 0.38405982355455714, 0.38214441620265344, 0.38019592202385327, 0.37986487424873977, 0.378938622850176, 0.37756053391586886, 0.3788001085761497, 0.37887380563474315, 0.3779291553082684, 0.3741361223865112, 0.36761502239248106, 0.3660381237299448, 0.36268747968285314, 0.3615518568737746, 0.36094412154697386, 0.36124389812372093, 0.3586627950058946, 0.3575667103922385, 0.35631987193025305, 0.3562606738720911, 0.35548318073298896, 0.3508257837676468, 0.3475430580629035, 0.34588879353022917, 0.34502598958689695, 0.3452164768200096, 0.3428280958110693, 0.34237821350911624, 0.34024410181861764, 0.3377176571666042, 0.3364563694110015, 0.3366903705090328, 0.3359944308709205, 0.3351718805432994, 0.33376793319669645, 0.33331901142062836, 0.33189214617944385, 0.3315732937012356, 0.3314273848122526, 0.3304011510941661, 0.3301160161629908, 0.32923994306192017, 0.3292462730956503, 0.3273306918975634, 0.3267079209816109, 0.32571391946733924, 0.32561676348697177, 0.325713378681654, 0.3260557773699328, 0.3232068863745089, 0.32215834309765495, 0.3214419998064124, 0.3202390831246915, 0.3194571232184651, 0.3191554868090184, 0.31907188599067926, 0.31896499829944264, 0.3187881303719785, 0.3179845002988363, 0.3178647229734222, 0.31808896497039446, 0.3170737693926072, 0.31613386527657233, 0.3122655854440788, 0.3115153908719462, 0.3089937012028069, 0.3095761370850584, 0.30892798961850476, 0.30818650639688255, 0.3070461035949263, 0.3064497059181399, 0.30601328819397844, 0.3058500834510279, 0.3032661590872994, 0.3028719405069272, 0.3025260229260201, 0.3015564829259311, 0.30066780113609376, 0.3019936297711556, 0.30168923432549893, 0.300045813801125, 0.29850333863743217, 0.29766475031391876, 0.29743528147868464, 0.2964982992585126, 0.29595092446620935, 0.29587594546515344, 0.2957582176246645, 0.29547317558352687, 0.2949438863630642, 0.2942213203143823, 0.29376411714573397, 0.2935978463599491, 0.29356190723936487, 0.29293290531921096, 0.29250837451321854, 0.292041643202773, 0.2915415278035364, 0.2915068812672327, 0.2910339144166068, 0.2903836325360151, 0.28967227482647123, 0.28906390297858914, 0.28830229108295385, 0.286752658976849, 0.2865422536992244, 0.2849875689689697, 0.2843781902621447, 0.28374387513686716, 0.2828142717371409, 0.2825112397228182, 0.28192892986949614, 0.281692455588085, 0.28183926074494225, 0.2816016330353194, 0.280894430192377, 0.2801608612924528, 0.27928556851105135, 0.2791473678633378, 0.2785973945043785, 0.2783530980621826, 0.2777677088376764, 0.27752160015726685, 0.2774734592742311, 0.27736115260852906, 0.27704609216720893, 0.2769491428376558, 0.2768170294978994, 0.2762119229768849, 0.27598305129836725, 0.2753988673907089, 0.27506638518169235, 0.27500193022937, 0.27462992683228465, 0.27449593015640195, 0.2736084562286477, 0.2730221657405815, 0.27200665181063927, 0.2713293106300039, 0.2704345838579748, 0.2701257653755687, 0.2694521928252999, 0.2688234812767796, 0.2686669343141931, 0.2688094913261411, 0.26792690312413386, 0.267357114255966, 0.26652521955029684, 0.26649305479151314, 0.2662772447154308, 0.26571085097021335, 0.26549364024451627, 0.2639228380315543, 0.2634568640334254, 0.2631417302019958, 0.2629249467603657, 0.26340541883276014, 0.2633976568099837, 0.2624866449647834, 0.2622205536642366, 0.26150628211740173, 0.26133096031330677, 0.2610755164884737, 0.2607361113209846, 0.2604719480681655, 0.26012765684144007, 0.25944150309583497, 0.25934499897508323, 0.2588127532422029, 0.258680193265686, 0.25806636462034854, 0.2578812440768627, 0.2575157078786972, 0.25588759257506605, 0.2556014269300109, 0.25367628139966225, 0.2533631772106147, 0.2530737483879436, 0.25262443068181956, 0.2523229096280886]\n"
     ]
    }
   ],
   "source": [
    "# usa a distorção para determinar o num ótimo de grupos\n",
    "from sklearn.cluster import KMeans\n",
    "from scipy.spatial.distance import cdist\n",
    "import matplotlib.pyplot as plt\n",
    "import math\n",
    "import numpy as np\n",
    "\n",
    "distortions = []\n",
    "K = range(1, 251)\n",
    "# trienar iteritivamente até n_clusters = K[i]\n",
    "for i in K:\n",
    "    kmeans_model = KMeans(n_clusters=i, random_state=42).fit(dados_normalizados_final)\n",
    "     # seleciona apenas as colunas dos dados numéricos\n",
    "    centroids = kmeans_model.cluster_centers_[:, :dados_num_normalizados.shape[1]]\n",
    "    distortions.append(sum(np.min(cdist(dados_num_normalizados, centroids, 'euclidean'), axis=1) / dados_num_normalizados.shape[0]))\n",
    "\n",
    "print(distortions)"
   ]
  },
  {
   "cell_type": "code",
   "execution_count": 69,
   "metadata": {},
   "outputs": [
    {
     "data": {
      "image/png": "[encoded data removed]",
      "text/plain": [
       "<Figure size 640x480 with 1 Axes>"
      ]
     },
     "metadata": {},
     "output_type": "display_data"
    }
   ],
   "source": [
    "# exibir o gráfico das distorções\n",
    "fig, ax = plt.subplots()\n",
    "ax.plot(K, distortions)\n",
    "ax.set(xlabel = 'n Clusters', ylabel = 'Distorção', title = 'Elbow pela distorção')\n",
    "ax.grid()\n",
    "fig.savefig('elbow_distorcao.png')\n",
    "plt.show()"
   ]
  },
  {
   "cell_type": "code",
   "execution_count": 70,
   "metadata": {},
   "outputs": [
    {
     "name": "stdout",
     "output_type": "stream",
     "text": [
      "[[ 1.04555815e-01  5.22570407e-01  1.91984995e-01 ...  0.00000000e+00\n",
      "   1.05263158e-01  1.57894737e-01]\n",
      " [ 2.50325125e-01  3.54444077e-01  5.30623890e-01 ...  1.00000000e+00\n",
      "  -1.38777878e-16 -1.38777878e-16]\n",
      " [ 4.59547149e-01  5.79390723e-01  3.60854676e-01 ...  2.77555756e-17\n",
      "  -5.55111512e-17  1.00000000e+00]\n",
      " ...\n",
      " [ 1.50737839e-01  5.28683407e-01  2.94121169e-01 ...  0.00000000e+00\n",
      "   8.82352941e-02  6.76470588e-01]\n",
      " [ 2.07446809e-01  3.46698113e-01  1.48320896e-01 ...  2.77555756e-17\n",
      "   6.25000000e-02  0.00000000e+00]\n",
      " [ 2.10758339e-01  2.95958569e-01  2.26158400e-01 ...  0.00000000e+00\n",
      "   4.16666667e-02  6.25000000e-01]]\n"
     ]
    }
   ],
   "source": [
    "# calcula o num ótimo de clusters\n",
    "x0 = K[0]\n",
    "y0 = distortions[0]\n",
    "xn = K[len(K)-1]\n",
    "yn = distortions[len(distortions)-1]\n",
    "# itera nos pontos gerados durante os treinamentos preliminares\n",
    "distancias = []\n",
    "for i in range (len(distortions)):\n",
    "    x = K[i]\n",
    "    y = distortions[i]\n",
    "    numerador = abs((yn-y0)*x - (xn-x0)*y + xn*y0 - yn*x0)\n",
    "    denominador = math.sqrt((yn-y0)**2 + (xn-x0)**2)\n",
    "    distancias.append(numerador/denominador)\n",
    "\n",
    "# maior distancia\n",
    "n_cluster_otimo = K[distancias.index(np.max(distancias))]\n",
    "\n",
    "# treina o modelo definitivo\n",
    "kmeans_model = KMeans(n_clusters = n_cluster_otimo, random_state=42).fit(dados_normalizados_final)\n",
    "print(kmeans_model.cluster_centers_)\n",
    "# salva o modelo\n",
    "dump(kmeans_model, open('clusters.pkl', 'wb'))"
   ]
  },
  {
   "cell_type": "code",
   "execution_count": 71,
   "metadata": {},
   "outputs": [],
   "source": [
    "# declaração de uma nova instância\n",
    "dados_nova_instancia = {\n",
    "    'Age': 30,\n",
    "    'Height': 1.70,\n",
    "    'Weight': 75,\n",
    "    'FCVC': 3,\n",
    "    'NCP': 3,\n",
    "    'CH2O': 2,\n",
    "    'FAF': 1,\n",
    "    'TUE': 1,\n",
    "    'Gender': 'Male',\n",
    "    'family_history_with_overweight': 'yes',\n",
    "    'FAVC': 'yes',\n",
    "    'CAEC': 'Sometimes',\n",
    "    'SMOKE': 'no',\n",
    "    'SCC': 'no',\n",
    "    'CALC': 'no',\n",
    "    'MTRANS': 'Public_Transportation',\n",
    "    'NObeyesdad': 'Obesity_Type_I'\n",
    "}\n",
    "\n",
    "# organiza os valores em uma estrutura de dados que corresponde a estrutura das colunas\n",
    "nova_instancia_df = pd.DataFrame([dados_nova_instancia])"
   ]
  },
  {
   "cell_type": "code",
   "execution_count": 72,
   "metadata": {},
   "outputs": [
    {
     "name": "stdout",
     "output_type": "stream",
     "text": [
      "        Age    Height    Weight  FCVC       NCP  CH2O       FAF  TUE  Female  \\\n",
      "0  0.340426  0.471698  0.268657   1.0  0.666667   0.5  0.333333  0.5     0.0   \n",
      "\n",
      "   Male  ...  Motorbike  Public_Transportation  Walking  Insufficient_Weight  \\\n",
      "0   1.0  ...        0.0                    1.0      0.0                  0.0   \n",
      "\n",
      "   Normal_Weight  Obesity_Type_I  Obesity_Type_II  Obesity_Type_III  \\\n",
      "0            0.0             1.0              0.0               0.0   \n",
      "\n",
      "   Overweight_Level_I  Overweight_Level_II  \n",
      "0                 0.0                  0.0  \n",
      "\n",
      "[1 rows x 38 columns]\n"
     ]
    }
   ],
   "source": [
    "from pickle import load\n",
    "\n",
    "# carrega o normalizador treinado anteriormente\n",
    "normalizador_salvo = load(open(\"normalizador1.pkl\", \"rb\"))\n",
    "\n",
    "# normaliza os dados numéricos da nova instância usando o normalizador salvo\n",
    "dados_num_nova_instancia = nova_instancia_df.drop(columns=[\"Gender\", \"family_history_with_overweight\", \"FAVC\", \"CAEC\", \"SMOKE\", \"SCC\", \"CALC\", \"MTRANS\", \"NObeyesdad\"])\n",
    "dados_num_nova_instancia_normalizados = normalizador_salvo.transform(dados_num_nova_instancia)\n",
    "\n",
    "# ajusta as colunas categóricas da nova instância para corresponder a representação dos dados originais\n",
    "nova_instancia_ajustada = pd.DataFrame(columns=dados_categoricos_normalizados.columns)\n",
    "for coluna in dados_categoricos_normalizados.columns:\n",
    "    if coluna in dados_categoricos.columns:\n",
    "        # se a coluna estiver presente na nova instância se usa o valor correspondente\n",
    "        nova_instancia_ajustada[coluna] = nova_instancia_df[coluna]\n",
    "    else:\n",
    "        # se a coluna não estiver presente na nova instância preenche com 0\n",
    "        nova_instancia_ajustada[coluna] = 0\n",
    "\n",
    "# preencher com 1 os valores correspondentes as categorias presentes na nova instância\n",
    "for coluna in nova_instancia_df.columns:\n",
    "    if coluna not in dados_categoricos.columns:\n",
    "        continue\n",
    "    categoria = nova_instancia_df[coluna][0]\n",
    "    nova_instancia_ajustada.loc[0, categoria] = 1\n",
    "\n",
    "# combina os dados numéricos normalizados com os dados categóricos ajustados\n",
    "nova_instancia_normalizada = pd.concat([pd.DataFrame(dados_num_nova_instancia_normalizados, columns=dados_num_normalizados.columns), nova_instancia_ajustada], axis=1)\n",
    "nova_instancia_normalizada.fillna(0, inplace=True)\n",
    "\n",
    "print(nova_instancia_normalizada)"
   ]
  },
  {
   "cell_type": "code",
   "execution_count": 73,
   "metadata": {},
   "outputs": [
    {
     "name": "stdout",
     "output_type": "stream",
     "text": [
      "A nova instância pertence ao cluster: [16]\n"
     ]
    }
   ],
   "source": [
    "# determina o cluster ao qual a nova instância pertence\n",
    "\n",
    "# carrega o modelo treinado anteriormente\n",
    "modelo_kmeans = load(open(\"clusters.pkl\", \"rb\"))\n",
    "\n",
    "# usa o modelo treinado para prever o cluster ao qual a nova instância pertence\n",
    "cluster_predito = modelo_kmeans.predict(nova_instancia_normalizada)\n",
    "\n",
    "print(\"A nova instância pertence ao cluster:\", cluster_predito)"
   ]
  },
  {
   "cell_type": "code",
   "execution_count": 74,
   "metadata": {},
   "outputs": [
    {
     "name": "stdout",
     "output_type": "stream",
     "text": [
      "A nova instancia foi atribuida ao cluster 16\n",
      "Caracteristicas ao cluster:\n",
      "Centroide [ 1.75466347e-01  6.98103005e-01  5.16140228e-01  6.50958898e-01\n",
      "  6.11035247e-01  6.64234611e-01  2.83947728e-01  4.04256204e-01\n",
      " -1.66533454e-16  1.00000000e+00  1.11022302e-16  1.00000000e+00\n",
      "  8.32667268e-17  1.00000000e+00  3.70370370e-02  1.85185185e-02\n",
      "  9.44444444e-01  3.46944695e-18  9.81481481e-01  1.85185185e-02\n",
      "  1.00000000e+00 -6.93889390e-18 -2.16840434e-19 -6.93889390e-18\n",
      "  1.00000000e+00  5.55111512e-17 -1.38777878e-16  1.73472348e-18\n",
      "  1.73472348e-18  1.00000000e+00  1.38777878e-17  1.38777878e-16\n",
      "  2.77555756e-17  1.00000000e+00 -5.55111512e-17 -5.55111512e-17\n",
      " -8.32667268e-17 -8.32667268e-17]\n"
     ]
    }
   ],
   "source": [
    "# obtem os centroids dos clusters\n",
    "centroides = modelo_kmeans.cluster_centers_\n",
    "\n",
    "# calcula as distancias entre a nova instancia e os centroides\n",
    "distancias_para_centroides = [np.linalg.norm(nova_instancia_normalizada - centroide) for centroide in centroides]\n",
    "\n",
    "# encontra o índice do centroide mais próximo que é o cluster mais próximo\n",
    "indice_cluster_mais_proximo = np.argmin(distancias_para_centroides)\n",
    "\n",
    "# imprime informações sobre o cluster atribuido\n",
    "print(\"A nova instancia foi atribuida ao cluster\", indice_cluster_mais_proximo)\n",
    "print(\"Caracteristicas ao cluster:\")\n",
    "print(\"Centroide\", centroides[indice_cluster_mais_proximo])"
   ]
  }
 ],
 "metadata": {
  "kernelspec": {
   "display_name": "Python 3",
   "language": "python",
   "name": "python3"
  },
  "language_info": {
   "codemirror_mode": {
    "name": "ipython",
    "version": 3
   },
   "file_extension": ".py",
   "mimetype": "text/x-python",
   "name": "python",
   "nbconvert_exporter": "python",
   "pygments_lexer": "ipython3",
   "version": "3.11.9"
  }
 },
 "nbformat": 4,
 "nbformat_minor": 2
}
